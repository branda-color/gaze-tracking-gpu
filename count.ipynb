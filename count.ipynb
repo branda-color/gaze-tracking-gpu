{
 "cells": [
  {
   "cell_type": "code",
   "execution_count": 2,
   "id": "dda3e3ca-f7fb-4563-b83b-f24405acdb60",
   "metadata": {},
   "outputs": [
    {
     "name": "stdout",
     "output_type": "stream",
     "text": [
      "總共有 8781 個檔案喔！\n"
     ]
    }
   ],
   "source": [
    "import os\n",
    "\n",
    "def count_all_files(directory):\n",
    "    count = 0\n",
    "    for root, dirs, files in os.walk(directory):\n",
    "        count += len(files)\n",
    "    return count\n",
    "\n",
    "# 把下面這個路徑換成妳的資料夾位置\n",
    "folder_path = \"C:/Users/User/py_project/gaze-tracking/data/mpiifacegaze_preprocessed/p00\"\n",
    "total_files1 = count_all_files(folder_path)\n",
    "print(f\"總共有 {total_files1} 個檔案喔！\")"
   ]
  },
  {
   "cell_type": "code",
   "execution_count": 3,
   "id": "2cfb6918-2f46-47bd-aff0-ce09100ffda7",
   "metadata": {},
   "outputs": [
    {
     "name": "stdout",
     "output_type": "stream",
     "text": [
      "總共有 112275 個檔案喔！\n"
     ]
    }
   ],
   "source": [
    "import os\n",
    "\n",
    "def count_all_files(directory):\n",
    "    count = 0\n",
    "    for root, dirs, files in os.walk(directory):\n",
    "        count += len(files)\n",
    "    return count\n",
    "\n",
    "# 把下面這個路徑換成妳的資料夾位置\n",
    "folder_path = \"C:/Users/User/py_project/gaze-tracking/data/mpiifacegaze_preprocessed\"\n",
    "total_files2 = count_all_files(folder_path)\n",
    "print(f\"總共有 {total_files2} 個檔案喔！\")"
   ]
  },
  {
   "cell_type": "code",
   "execution_count": 4,
   "id": "bd0a0026-06de-40de-9667-f85af84c095f",
   "metadata": {},
   "outputs": [
    {
     "name": "stdout",
     "output_type": "stream",
     "text": [
      "103494\n"
     ]
    }
   ],
   "source": [
    "count = total_files2 - total_files1\n",
    "print(count)"
   ]
  },
  {
   "cell_type": "code",
   "execution_count": null,
   "id": "c1e8041d-cce4-4e15-9b77-1684f45be056",
   "metadata": {},
   "outputs": [],
   "source": []
  }
 ],
 "metadata": {
  "kernelspec": {
   "display_name": "Python 3 (ipykernel)",
   "language": "python",
   "name": "python3"
  },
  "language_info": {
   "codemirror_mode": {
    "name": "ipython",
    "version": 3
   },
   "file_extension": ".py",
   "mimetype": "text/x-python",
   "name": "python",
   "nbconvert_exporter": "python",
   "pygments_lexer": "ipython3",
   "version": "3.8.19"
  }
 },
 "nbformat": 4,
 "nbformat_minor": 5
}
