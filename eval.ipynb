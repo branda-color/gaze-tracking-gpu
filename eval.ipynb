{
 "cells": [
  {
   "cell_type": "code",
   "execution_count": 2,
   "id": "a87f414e-5956-4245-9688-cf91f9bf2879",
   "metadata": {},
   "outputs": [
    {
     "name": "stderr",
     "output_type": "stream",
     "text": [
      "Global seed set to 42\n"
     ]
    },
    {
     "name": "stdout",
     "output_type": "stream",
     "text": [
      "./saved_models/p00/p00_best-v22.ckpt\n"
     ]
    },
    {
     "name": "stderr",
     "output_type": "stream",
     "text": [
      "C:\\Users\\User\\anaconda3\\envs\\gazegpu\\lib\\site-packages\\pytorch_lightning\\loops\\utilities.py:92: PossibleUserWarning: `max_epochs` was not set. Setting it to 1000 epochs. To train without an epoch limit, set `max_epochs=-1`.\n",
      "  rank_zero_warn(\n",
      "GPU available: True, used: True\n",
      "TPU available: False, using: 0 TPU cores\n",
      "IPU available: False, using: 0 IPUs\n",
      "HPU available: False, using: 0 HPUs\n"
     ]
    },
    {
     "name": "stdout",
     "output_type": "stream",
     "text": [
      "train on persons [2, 3, 4, 5, 6, 7, 8, 9, 10, 11, 12, 13, 14]\n",
      "valid on person 0\n",
      "test on person 1\n",
      "len(dataset_train) 60784\n",
      "len(dataset_valid) 2927\n"
     ]
    },
    {
     "name": "stderr",
     "output_type": "stream",
     "text": [
      "LOCAL_RANK: 0 - CUDA_VISIBLE_DEVICES: [0]\n"
     ]
    },
    {
     "name": "stdout",
     "output_type": "stream",
     "text": [
      "len(dataset_test) 2904\n",
      "Testing DataLoader 0: 100%|██████████| 181/181 [00:15<00:00, 11.60it/s]\n",
      "────────────────────────────────────────────────────────────────────────────────────────────────────────────────────────\n",
      "             Test metric                         DataLoader 0\n",
      "────────────────────────────────────────────────────────────────────────────────────────────────────────────────────────\n",
      "   test/offset(k=0)/angular_error             5.6869916915893555\n",
      "        test/offset(k=0)/loss                0.005451828707009554\n",
      "test/offset(k=128)/mean_angular_error         2.2585714012145996\n",
      "test/offset(k=128)/std_angular_error         0.025865651074331485\n",
      " test/offset(k=9)/mean_angular_error          2.3921381779432296\n",
      " test/offset(k=9)/std_angular_error           0.16531519518077176\n",
      "  test/offset(k=all)/angular_error             2.247389793395996\n",
      "────────────────────────────────────────────────────────────────────────────────────────────────────────────────────────\n"
     ]
    }
   ],
   "source": [
    "# %load eval.py\n",
    "from argparse import ArgumentParser\n",
    "\n",
    "from pytorch_lightning import seed_everything, Trainer\n",
    "\n",
    "from dataset.mpii_face_gaze_dataset import get_dataloaders\n",
    "from train import Model\n",
    "\n",
    "if __name__ == '__main__':\n",
    "\n",
    "    ###非變動區塊\n",
    "    k = [9, 128]\n",
    "    adjust_slope = False\n",
    "    ###對應作者表格grid calibration,如果是random就填true\n",
    "    grid_calibration_samples=False\n",
    "    batch_size =32\n",
    "    path_to_data = './data/mpiifacegaze_preprocessed'\n",
    "    \n",
    "    \n",
    "    ####變動區塊\n",
    "    path_to_checkpoints = './saved_models/p00/p00_best-v22.ckpt'\n",
    "    person_idx = 1\n",
    "    validate_on_person = 0 \n",
    "    \n",
    "    seed_everything(42)\n",
    "\n",
    "    print(f\"{path_to_checkpoints}\")\n",
    "    \n",
    "    model = Model.load_from_checkpoint(path_to_checkpoints, k=[9, 128], adjust_slope=False, grid_calibration_samples=False)\n",
    "\n",
    "    trainer = Trainer(\n",
    "        gpus=1,\n",
    "        benchmark=True,\n",
    "    )\n",
    "\n",
    "    _, _, test_dataloader = get_dataloaders(path_to_data, validate_on_person, person_idx, batch_size)\n",
    "    trainer.test(model, test_dataloader)\n"
   ]
  },
  {
   "cell_type": "code",
   "execution_count": null,
   "id": "370f3c67-da3e-489d-8a54-882f2aed8307",
   "metadata": {},
   "outputs": [],
   "source": []
  }
 ],
 "metadata": {
  "kernelspec": {
   "display_name": "Python 3 (ipykernel)",
   "language": "python",
   "name": "python3"
  },
  "language_info": {
   "codemirror_mode": {
    "name": "ipython",
    "version": 3
   },
   "file_extension": ".py",
   "mimetype": "text/x-python",
   "name": "python",
   "nbconvert_exporter": "python",
   "pygments_lexer": "ipython3",
   "version": "3.8.19"
  }
 },
 "nbformat": 4,
 "nbformat_minor": 5
}
