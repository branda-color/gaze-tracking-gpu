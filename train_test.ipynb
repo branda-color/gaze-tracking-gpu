{
 "cells": [
  {
   "cell_type": "code",
   "execution_count": 11,
   "id": "cc492cb8-49f3-4e6e-91e9-532633157520",
   "metadata": {},
   "outputs": [
    {
     "name": "stdout",
     "output_type": "stream",
     "text": [
      "CUDA is available!\n"
     ]
    }
   ],
   "source": [
    "import torch\n",
    "\n",
    "# 檢查系統中是否有可用的 CUDA\n",
    "if torch.cuda.is_available():\n",
    "    print(\"CUDA is available!\")\n",
    "else:\n",
    "    print(\"CUDA is not available. Using CPU instead.\")"
   ]
  },
  {
   "cell_type": "code",
   "execution_count": 12,
   "id": "5e4b98b1",
   "metadata": {},
   "outputs": [],
   "source": [
    "# %load train.py\n",
    "from argparse import ArgumentParser\n",
    "from typing import Tuple\n",
    "\n",
    "\n",
    "import numpy as np\n",
    "import torch\n",
    "import torch.nn.functional as F\n",
    "from pytorch_lightning import seed_everything, Trainer\n",
    "from pytorch_lightning.loggers import TensorBoardLogger\n",
    "from pytorch_lightning.utilities.types import STEP_OUTPUT, EPOCH_OUTPUT\n",
    "from pytorch_lightning.callbacks import ModelCheckpoint\n",
    "\n",
    "from dataset.mpii_face_gaze_dataset import get_dataloaders\n",
    "from model import FinalModel\n",
    "from utils import calc_angle_error, PitchYaw, plot_prediction_vs_ground_truth, log_figure, get_random_idx, get_each_of_one_grid_idx\n",
    "import os\n",
    "\n",
    "######加入損失函數\n",
    "from multi_loss import angular_loss, regularization_loss, MultiTaskLoss\n",
    "#######早停法(epoch無改善會停止訓練)\n",
    "from pytorch_lightning.callbacks import EarlyStopping\n",
    "\n",
    "\n"
   ]
  },
  {
   "cell_type": "code",
   "execution_count": 13,
   "id": "3aabf83a",
   "metadata": {},
   "outputs": [],
   "source": [
    "class Model(FinalModel):\n",
    "    def __init__(self, learning_rate: float = 0.001, weight_decay: float = 0., k=None, adjust_slope: bool = False, grid_calibration_samples: bool = False, *args, **kwargs):\n",
    "        print(\"Initializing train Model...\")\n",
    "        super().__init__(*args, **kwargs)\n",
    "\n",
    "        print(\"train Model base (FinalModel) initialized.\")\n",
    "        self.learning_rate = learning_rate\n",
    "        self.weight_decay = weight_decay\n",
    "        self.k = [9, 128] if k is None else k\n",
    "        self.adjust_slope = adjust_slope\n",
    "        self.grid_calibration_samples = grid_calibration_samples\n",
    "\n",
    "        self.save_hyperparameters()  # log hyperparameters\n",
    "\n",
    "        print(\"train Model initialization completed.\")\n",
    "\n",
    "    def configure_optimizers(self):\n",
    "\n",
    "        optimizer = torch.optim.Adam(self.parameters(), lr=self.learning_rate, weight_decay=self.weight_decay)\n",
    "    \n",
    "        # ReduceLROnPlateau 調度器\n",
    "        lr_scheduler = {\n",
    "            'scheduler': torch.optim.lr_scheduler.ReduceLROnPlateau(optimizer, mode='min', patience=5, factor=0.5),\n",
    "            'monitor': 'train/loss',  # 與 EarlyStopping 指標保持一致\n",
    "            'interval': 'epoch',  # 每個 epoch 檢查\n",
    "            'frequency': 1,       # 每次 epoch 計算\n",
    "        }\n",
    "    \n",
    "        return [optimizer], [lr_scheduler]\n",
    "\n",
    "\n",
    "        \n",
    "        #####舊的作者方法\n",
    "        #return torch.optim.Adam(self.parameters(), lr=self.learning_rate, weight_decay=self.weight_decay)\n",
    "\n",
    "    def __step(self, batch: dict) -> Tuple:\n",
    "        \"\"\"\n",
    "        Operates on a single batch of data.\n",
    "\n",
    "        :param batch: The output of your :class:`~torch.utils.data.DataLoader`. A tensor, tuple or list.\n",
    "        :return: calculated loss, given values and predicted outputs\n",
    "        \"\"\"\n",
    "        person_idx = batch['person_idx'].long()\n",
    "        left_eye_image = batch['left_eye_image'].float()\n",
    "        right_eye_image = batch['right_eye_image'].float()\n",
    "        full_face_image = batch['full_face_image'].float()\n",
    "\n",
    "        gaze_pitch = batch['gaze_pitch'].float()\n",
    "        gaze_yaw = batch['gaze_yaw'].float()\n",
    "\n",
    "        #print(\"gaze_pitch:\", gaze_pitch)\n",
    "        #print(\"gaze_yaw:\", gaze_yaw)\n",
    "        \n",
    "        labels = torch.stack([gaze_pitch, gaze_yaw]).T\n",
    "\n",
    "        outputs = self(person_idx, full_face_image, right_eye_image, left_eye_image)  # prediction on the base model\n",
    "\n",
    "        ########修改下面的損失函數\n",
    "        # 基本損失\n",
    "        mse_loss = F.mse_loss(outputs, labels)\n",
    "    \n",
    "        # 角度損失\n",
    "        #ang_loss = angular_loss(outputs, labels)\n",
    "    \n",
    "        # 正則化損失\n",
    "        #reg_loss = regularization_loss(self)\n",
    "    \n",
    "        # 計算總損失\n",
    "        total_loss = mse_loss \n",
    "        return total_loss, labels, outputs\n",
    "\n",
    "\n",
    "\n",
    "        ######舊的損失函數\n",
    "        #loss = F.mse_loss(outputs, labels)\n",
    "        #return loss, labels, outputs\n",
    "\n",
    "    def training_step(self, train_batch: dict, batch_idx: int) -> STEP_OUTPUT:\n",
    "        loss, labels, outputs = self.__step(train_batch)\n",
    "\n",
    "        self.log('train/loss', loss)\n",
    "        self.log('train/angular_error', calc_angle_error(labels, outputs))\n",
    "\n",
    "        return loss\n",
    "\n",
    "    def validation_step(self, valid_batch: dict, batch_idx: int) -> STEP_OUTPUT:\n",
    "        loss, labels, outputs = self.__step(valid_batch)\n",
    "\n",
    "        print(f\"Validation Loss: {loss.item()}\")\n",
    "\n",
    "        self.log('valid/offset(k=0)/loss', loss)\n",
    "        self.log('valid/offset(k=0)/angular_error', calc_angle_error(labels, outputs))\n",
    "\n",
    "\n",
    "        return {'loss': loss, 'labels': labels, 'outputs': outputs, 'gaze_locations': valid_batch['gaze_location'], 'screen_sizes': valid_batch['screen_size']}\n",
    "\n",
    "    def validation_epoch_end(self, outputs: EPOCH_OUTPUT) -> None:\n",
    "        self.__log_and_plot_details(outputs, 'epoch_end_valid')\n",
    "\n",
    "    def test_step(self, test_batch: dict, batch_idx: int) -> STEP_OUTPUT:\n",
    "        loss, labels, outputs = self.__step(test_batch)\n",
    "\n",
    "        self.log('test/offset(k=0)/loss', loss,on_epoch=True, prog_bar=True)\n",
    "        self.log('test/offset(k=0)/angular_error', calc_angle_error(labels, outputs))\n",
    "\n",
    "        return {'loss': loss, 'labels': labels, 'outputs': outputs, 'gaze_locations': test_batch['gaze_location'], 'screen_sizes': test_batch['screen_size']}\n",
    "\n",
    "    def test_epoch_end(self, outputs: EPOCH_OUTPUT) -> None:\n",
    "        self.__log_and_plot_details(outputs, 'epoch_end_test')\n",
    "\n",
    "    def __log_and_plot_details(self, outputs, tag: str):\n",
    "        test_labels = torch.cat([output['labels'] for output in outputs])\n",
    "        test_outputs = torch.cat([output['outputs'] for output in outputs])\n",
    "        test_gaze_locations = torch.cat([output['gaze_locations'] for output in outputs])\n",
    "        test_screen_sizes = torch.cat([output['screen_sizes'] for output in outputs])\n",
    "\n",
    "        figure = plot_prediction_vs_ground_truth(test_labels, test_outputs, PitchYaw.PITCH)\n",
    "        log_figure(self.logger, f'{tag}/offset(k=0)/pitch', figure, self.global_step)\n",
    "\n",
    "        figure = plot_prediction_vs_ground_truth(test_labels, test_outputs, PitchYaw.YAW)\n",
    "        log_figure(self.logger, f'{tag}/offset(k=0)/yaw', figure, self.global_step)\n",
    "\n",
    "        # find calibration params\n",
    "         # 確保 last_x 合理\n",
    "        last_x = min(500, len(test_labels))\n",
    "        calibration_train = test_outputs[:-last_x].cpu().detach().numpy()\n",
    "        calibration_test = test_outputs[-last_x:].cpu().detach().numpy()\n",
    "        calibration_train_labels = test_labels[:-last_x].cpu().detach().numpy()\n",
    "        calibration_test_labels = test_labels[-last_x:].cpu().detach().numpy()\n",
    "\n",
    "        # 日誌檢查\n",
    "        print(f\"日誌檢查開始\")\n",
    "        print(f\"test_labels shape: {test_labels.shape}\")\n",
    "        print(f\"last_x: {last_x}\")\n",
    "        print(f\"calibration_train_labels shape: {calibration_train_labels.shape}\")\n",
    "        print(f\"calibration_train shape: {calibration_train.shape}\")\n",
    "\n",
    "        \n",
    "\n",
    "\n",
    "        # 檢查切片後的結果是否為空##############################################################\n",
    "\n",
    "        # 檢查 calibration_train_labels 是否為空\n",
    "        if calibration_train_labels.size == 0:\n",
    "            print(\"Warning: calibration_train_labels is empty! Skipping this batch.\")\n",
    "            return\n",
    "\n",
    "\n",
    "        ######################################################################################\n",
    "        gaze_locations_train = test_gaze_locations[:-last_x].cpu().detach().numpy()\n",
    "        screen_sizes_train = test_screen_sizes[:-last_x].cpu().detach().numpy()\n",
    "\n",
    "        if len(calibration_train) > 0:\n",
    "            for k in self.k:\n",
    "                if k <= 0:\n",
    "                    continue\n",
    "                calibrated_solutions = []\n",
    "\n",
    "                num_calibration_runs = 500 if self.grid_calibration_samples else 10_000  # original results are both evaluated with 10,000 runs\n",
    "                for calibration_run_idx in range(num_calibration_runs):  # get_each_of_one_grid_idx is slower than get_random_idx\n",
    "                    np.random.seed(42 + calibration_run_idx)\n",
    "                    calibration_sample_idxs = get_each_of_one_grid_idx(k, gaze_locations_train, screen_sizes_train) if self.grid_calibration_samples else get_random_idx(k, len(calibration_train))\n",
    "\n",
    "                    #####################################################################\n",
    "                    ###加判斷\n",
    "                    #######################################################################\n",
    "                    # 確保索引不會超出範圍\n",
    "                    if not calibration_sample_idxs:\n",
    "                        print(f\"Warning: No valid calibration sample indices for k={k}. Skipping this iteration.\")\n",
    "                        continue\n",
    "               \n",
    "                    #######################################################################\n",
    "\n",
    "                    \n",
    "                    calibration_points_x = np.asarray([calibration_train[idx] for idx in calibration_sample_idxs])\n",
    "                    calibration_points_y = np.asarray([calibration_train_labels[idx] for idx in calibration_sample_idxs])\n",
    "\n",
    "                     #####################################################################\n",
    "                    ###加判斷\n",
    "                    #######################################################################\n",
    "\n",
    "                    # 檢查 calibration_points 是否為空\n",
    "                    if calibration_points_x.size == 0 or calibration_points_y.size == 0:\n",
    "                        print(f\"Warning: Empty calibration points for k={k}. Skipping this iteration.\")\n",
    "                        continue\n",
    "\n",
    "                     #####################################################################\n",
    "            \n",
    "\n",
    "                    if self.adjust_slope:\n",
    "                        m, b = np.polyfit(calibration_points_y[:, :1].reshape(-1), calibration_points_x[:, :1].reshape(-1), deg=1)\n",
    "                        pitch_fixed = (calibration_test[:, :1] - b) * (1 / m)\n",
    "                        m, b = np.polyfit(calibration_points_y[:, 1:].reshape(-1), calibration_points_x[:, 1:].reshape(-1), deg=1)\n",
    "                        yaw_fixed = (calibration_test[:, 1:] - b) * (1 / m)\n",
    "                    else:\n",
    "                        mean_diff_pitch = (calibration_points_y[:, :1] - calibration_points_x[:, :1]).mean()  # mean offset\n",
    "                        pitch_fixed = calibration_test[:, :1] + mean_diff_pitch\n",
    "                        mean_diff_yaw = (calibration_points_y[:, 1:] - calibration_points_x[:, 1:]).mean()  # mean offset\n",
    "                        yaw_fixed = calibration_test[:, 1:] + mean_diff_yaw\n",
    "\n",
    "                    pitch_fixed, yaw_fixed = torch.Tensor(pitch_fixed), torch.Tensor(yaw_fixed)\n",
    "                    outputs_fixed = torch.stack([pitch_fixed, yaw_fixed], dim=1).squeeze(-1)\n",
    "                    calibrated_solutions.append(calc_angle_error(torch.Tensor(calibration_test_labels), outputs_fixed).item())\n",
    "\n",
    "            #####################################################################\n",
    "            ###加判斷\n",
    "            #######################################################################\n",
    "                if calibrated_solutions:\n",
    "                    self.log(f'{tag}/offset(k={k})/mean_angular_error', np.asarray(calibrated_solutions).mean())\n",
    "                    self.log(f'{tag}/offset(k={k})/std_angular_error', np.asarray(calibrated_solutions).std())\n",
    "                else:\n",
    "                    print(f\"Warning: No calibrated solutions generated for k={k}.\")\n",
    "\n",
    "         #######################################################################\n",
    "\n",
    "        # best case, with all calibration samples, all values except the last `last_x` values\n",
    "        if self.adjust_slope:\n",
    "            m, b = np.polyfit(calibration_train_labels[:, :1].reshape(-1), calibration_train[:, :1].reshape(-1), deg=1)\n",
    "            pitch_fixed = torch.Tensor((calibration_test[:, :1] - b) * (1 / m))\n",
    "            m, b = np.polyfit(calibration_train_labels[:, 1:].reshape(-1), calibration_train[:, 1:].reshape(-1), deg=1)\n",
    "            yaw_fixed = torch.Tensor((calibration_test[:, 1:] - b) * (1 / m))\n",
    "        else:\n",
    "            mean_diff_pitch = (calibration_train_labels[:, :1] - calibration_train[:, :1]).mean()  # mean offset\n",
    "            pitch_fixed = calibration_test[:, :1] + mean_diff_pitch\n",
    "            mean_diff_yaw = (calibration_train_labels[:, 1:] - calibration_train[:, 1:]).mean()  # mean offset\n",
    "            yaw_fixed = calibration_test[:, 1:] + mean_diff_yaw\n",
    "\n",
    "        pitch_fixed, yaw_fixed = torch.Tensor(pitch_fixed), torch.Tensor(yaw_fixed)\n",
    "        outputs_fixed = torch.stack([pitch_fixed, yaw_fixed], dim=1).squeeze(-1)\n",
    "        calibration_test_labels = torch.Tensor(calibration_test_labels)\n",
    "        self.log(f'{tag}/offset(k=all)/angular_error', calc_angle_error(calibration_test_labels, outputs_fixed))\n",
    "\n",
    "        figure = plot_prediction_vs_ground_truth(calibration_test_labels, outputs_fixed, PitchYaw.PITCH)\n",
    "        log_figure(self.logger, f'{tag}/offset(k=all)/pitch', figure, self.global_step)\n",
    "\n",
    "        figure = plot_prediction_vs_ground_truth(calibration_test_labels, outputs_fixed, PitchYaw.YAW)\n",
    "        log_figure(self.logger, f'{tag}/offset(k=all)/yaw', figure, self.global_step)\n",
    "\n",
    "    \n",
    "\n",
    "\n"
   ]
  },
  {
   "cell_type": "code",
   "execution_count": 14,
   "id": "ef30cb2b",
   "metadata": {},
   "outputs": [],
   "source": [
    "def main(path_to_data: str, validate_on_person: int, test_on_person: int, learning_rate: float, weight_decay: float, batch_size: int, k: int, adjust_slope: bool, grid_calibration_samples: bool):\n",
    "    seed_everything(42)\n",
    "\n",
    "\n",
    "    model = Model(learning_rate=1e-4, weight_decay=1e-5, k=k, adjust_slope=adjust_slope, grid_calibration_samples=grid_calibration_samples)\n",
    "\n",
    "    #######舊的\n",
    "    #model = Model(learning_rate, weight_decay, k, adjust_slope, grid_calibration_samples)\n",
    "\n",
    "    # 確保保存模型的目錄存在(變成eval要的型態資料夾)\n",
    "    base_model_dir = './saved_models/'\n",
    "    os.makedirs(base_model_dir, exist_ok=True)\n",
    "    person_model_dir = os.path.join(base_model_dir, f'p{validate_on_person:02d}')\n",
    "    os.makedirs(person_model_dir, exist_ok=True)\n",
    "\n",
    "    #加入訓練無效果提早停止\n",
    "    early_stopping = EarlyStopping(\n",
    "        monitor='valid/offset(k=0)/loss',\n",
    "        patience=15,  # 允許最多 5 個輪數無改進\n",
    "        mode='min'\n",
    "    )\n",
    "\n",
    "\n",
    "    # 設定模型保存\n",
    "    checkpoint_callback = ModelCheckpoint(\n",
    "        dirpath=person_model_dir,  # 保存模型的目錄\n",
    "        filename=f'p{validate_on_person:02d}_best',  # 保存文件的名稱\n",
    "        save_top_k=1,  # 只保存最好的模型\n",
    "        verbose=True,\n",
    "        monitor='valid/offset(k=0)/loss',  # 根據某個監控指標保存，比如 validation loss\n",
    "        mode='min'  # 以最小化 val_loss 的方式保存最好的模型\n",
    "    )\n",
    "\n",
    "    trainer = Trainer(\n",
    "        gpus=1,\n",
    "        max_epochs=100,\n",
    "        fast_dev_run=False,\n",
    "        default_root_dir=person_model_dir,\n",
    "        logger=[\n",
    "            TensorBoardLogger(save_dir=f\"tb_logs/p{validate_on_person:02d}\"),\n",
    "        ],\n",
    "        benchmark=True,\n",
    "        callbacks=[checkpoint_callback],  # 傳入模型保存回調\n",
    "\n",
    "        ######禁用檢查要開才能印出model的print\n",
    "        num_sanity_val_steps=0,\n",
    "        limit_val_batches=0,  # 禁用验证数据检查\n",
    "        enable_progress_bar=True,  # 确保显示标准输出\n",
    "        log_every_n_steps=1\n",
    "    )\n",
    "\n",
    "    print(\"Start data loading...\")\n",
    "    train_dataloader, valid_dataloader, test_dataloader = get_dataloaders(path_to_data, validate_on_person, test_on_person, batch_size)\n",
    "\n",
    "    print(\"Data loading complete.\")\n",
    "  \n",
    "    trainer.fit(model, train_dataloader, valid_dataloader)\n",
    "    trainer.test(model, test_dataloader)\n",
    "\n",
    "\n"
   ]
  },
  {
   "cell_type": "code",
   "execution_count": 15,
   "id": "bc1baa9c-aaec-4ef0-9f33-b20c3b96bf41",
   "metadata": {},
   "outputs": [
    {
     "name": "stderr",
     "output_type": "stream",
     "text": [
      "Global seed set to 42\n"
     ]
    },
    {
     "name": "stdout",
     "output_type": "stream",
     "text": [
      "Initializing train Model...\n"
     ]
    },
    {
     "name": "stderr",
     "output_type": "stream",
     "text": [
      "GPU available: True, used: True\n",
      "TPU available: False, using: 0 TPU cores\n",
      "IPU available: False, using: 0 IPUs\n",
      "HPU available: False, using: 0 HPUs\n"
     ]
    },
    {
     "name": "stdout",
     "output_type": "stream",
     "text": [
      "train Model base (FinalModel) initialized.\n",
      "train Model initialization completed.\n",
      "Start data loading...\n",
      "train on persons [2, 3, 4, 5, 6, 7, 8, 9, 10, 11, 12, 13, 14]\n",
      "valid on person 0\n",
      "test on person 1\n",
      "len(dataset_train) 60784\n",
      "len(dataset_valid) 2927\n"
     ]
    },
    {
     "name": "stderr",
     "output_type": "stream",
     "text": [
      "C:\\Users\\User\\anaconda3\\envs\\gazegpu\\lib\\site-packages\\pytorch_lightning\\callbacks\\model_checkpoint.py:611: UserWarning: Checkpoint directory ./saved_models/p00 exists and is not empty.\n",
      "  rank_zero_warn(f\"Checkpoint directory {dirpath} exists and is not empty.\")\n",
      "LOCAL_RANK: 0 - CUDA_VISIBLE_DEVICES: [0]\n",
      "\n",
      "  | Name         | Type       | Params\n",
      "--------------------------------------------\n",
      "0 | cnn_face     | Sequential | 564 K \n",
      "1 | cnn_eye      | Sequential | 566 K \n",
      "2 | fc_face      | Sequential | 1.2 M \n",
      "3 | cnn_eye2fc   | Sequential | 904 K \n",
      "4 | fc_eye       | Sequential | 1.6 M \n",
      "5 | fc_eyes_face | Sequential | 148 K \n",
      "--------------------------------------------\n",
      "5.0 M     Trainable params\n",
      "0         Non-trainable params\n",
      "5.0 M     Total params\n",
      "19.823    Total estimated model params size (MB)\n"
     ]
    },
    {
     "name": "stdout",
     "output_type": "stream",
     "text": [
      "len(dataset_test) 2904\n",
      "Data loading complete.\n",
      "Epoch 0: 100%|██████████| 1899/1899 [07:33<00:00,  4.19it/s, loss=0.0407, v_num=72]"
     ]
    },
    {
     "name": "stderr",
     "output_type": "stream",
     "text": [
      "Epoch 0, global step 1899: 'valid/offset(k=0)/loss' was not in top 1\n"
     ]
    },
    {
     "name": "stdout",
     "output_type": "stream",
     "text": [
      "Epoch 1: 100%|██████████| 1899/1899 [06:25<00:00,  4.92it/s, loss=0.0235, v_num=72]"
     ]
    },
    {
     "name": "stderr",
     "output_type": "stream",
     "text": [
      "Epoch 1, global step 3798: 'valid/offset(k=0)/loss' was not in top 1\n"
     ]
    },
    {
     "name": "stdout",
     "output_type": "stream",
     "text": [
      "Epoch 2: 100%|██████████| 1899/1899 [06:43<00:00,  4.71it/s, loss=0.0115, v_num=72]"
     ]
    },
    {
     "name": "stderr",
     "output_type": "stream",
     "text": [
      "Epoch 2, global step 5697: 'valid/offset(k=0)/loss' was not in top 1\n"
     ]
    },
    {
     "name": "stdout",
     "output_type": "stream",
     "text": [
      "Epoch 3: 100%|██████████| 1899/1899 [06:19<00:00,  5.00it/s, loss=0.00669, v_num=72]"
     ]
    },
    {
     "name": "stderr",
     "output_type": "stream",
     "text": [
      "Epoch 3, global step 7596: 'valid/offset(k=0)/loss' was not in top 1\n"
     ]
    },
    {
     "name": "stdout",
     "output_type": "stream",
     "text": [
      "Epoch 4: 100%|██████████| 1899/1899 [06:19<00:00,  5.00it/s, loss=0.0056, v_num=72] "
     ]
    },
    {
     "name": "stderr",
     "output_type": "stream",
     "text": [
      "Epoch 4, global step 9495: 'valid/offset(k=0)/loss' was not in top 1\n"
     ]
    },
    {
     "name": "stdout",
     "output_type": "stream",
     "text": [
      "Epoch 5: 100%|██████████| 1899/1899 [06:18<00:00,  5.02it/s, loss=0.00456, v_num=72]"
     ]
    },
    {
     "name": "stderr",
     "output_type": "stream",
     "text": [
      "Epoch 5, global step 11394: 'valid/offset(k=0)/loss' was not in top 1\n"
     ]
    },
    {
     "name": "stdout",
     "output_type": "stream",
     "text": [
      "Epoch 6: 100%|██████████| 1899/1899 [06:31<00:00,  4.85it/s, loss=0.00407, v_num=72]"
     ]
    },
    {
     "name": "stderr",
     "output_type": "stream",
     "text": [
      "Epoch 6, global step 13293: 'valid/offset(k=0)/loss' was not in top 1\n"
     ]
    },
    {
     "name": "stdout",
     "output_type": "stream",
     "text": [
      "Epoch 7: 100%|██████████| 1899/1899 [06:18<00:00,  5.02it/s, loss=0.00304, v_num=72]"
     ]
    },
    {
     "name": "stderr",
     "output_type": "stream",
     "text": [
      "Epoch 7, global step 15192: 'valid/offset(k=0)/loss' was not in top 1\n"
     ]
    },
    {
     "name": "stdout",
     "output_type": "stream",
     "text": [
      "Epoch 8: 100%|██████████| 1899/1899 [06:32<00:00,  4.83it/s, loss=0.00313, v_num=72]"
     ]
    },
    {
     "name": "stderr",
     "output_type": "stream",
     "text": [
      "Epoch 8, global step 17091: 'valid/offset(k=0)/loss' was not in top 1\n"
     ]
    },
    {
     "name": "stdout",
     "output_type": "stream",
     "text": [
      "Epoch 9: 100%|██████████| 1899/1899 [06:26<00:00,  4.92it/s, loss=0.0033, v_num=72] "
     ]
    },
    {
     "name": "stderr",
     "output_type": "stream",
     "text": [
      "Epoch 9, global step 18990: 'valid/offset(k=0)/loss' was not in top 1\n"
     ]
    },
    {
     "name": "stdout",
     "output_type": "stream",
     "text": [
      "Epoch 10: 100%|██████████| 1899/1899 [06:20<00:00,  4.98it/s, loss=0.00293, v_num=72]"
     ]
    },
    {
     "name": "stderr",
     "output_type": "stream",
     "text": [
      "Epoch 10, global step 20889: 'valid/offset(k=0)/loss' was not in top 1\n"
     ]
    },
    {
     "name": "stdout",
     "output_type": "stream",
     "text": [
      "Epoch 11: 100%|██████████| 1899/1899 [06:17<00:00,  5.03it/s, loss=0.00284, v_num=72]"
     ]
    },
    {
     "name": "stderr",
     "output_type": "stream",
     "text": [
      "Epoch 11, global step 22788: 'valid/offset(k=0)/loss' was not in top 1\n"
     ]
    },
    {
     "name": "stdout",
     "output_type": "stream",
     "text": [
      "Epoch 12: 100%|██████████| 1899/1899 [06:17<00:00,  5.04it/s, loss=0.00276, v_num=72]"
     ]
    },
    {
     "name": "stderr",
     "output_type": "stream",
     "text": [
      "Epoch 12, global step 24687: 'valid/offset(k=0)/loss' was not in top 1\n"
     ]
    },
    {
     "name": "stdout",
     "output_type": "stream",
     "text": [
      "Epoch 13: 100%|██████████| 1899/1899 [06:16<00:00,  5.04it/s, loss=0.00264, v_num=72]"
     ]
    },
    {
     "name": "stderr",
     "output_type": "stream",
     "text": [
      "Epoch 13, global step 26586: 'valid/offset(k=0)/loss' was not in top 1\n"
     ]
    },
    {
     "name": "stdout",
     "output_type": "stream",
     "text": [
      "Epoch 14: 100%|██████████| 1899/1899 [06:16<00:00,  5.04it/s, loss=0.00253, v_num=72]"
     ]
    },
    {
     "name": "stderr",
     "output_type": "stream",
     "text": [
      "Epoch 14, global step 28485: 'valid/offset(k=0)/loss' was not in top 1\n"
     ]
    },
    {
     "name": "stdout",
     "output_type": "stream",
     "text": [
      "Epoch 15: 100%|██████████| 1899/1899 [06:17<00:00,  5.03it/s, loss=0.00254, v_num=72]"
     ]
    },
    {
     "name": "stderr",
     "output_type": "stream",
     "text": [
      "Epoch 15, global step 30384: 'valid/offset(k=0)/loss' was not in top 1\n"
     ]
    },
    {
     "name": "stdout",
     "output_type": "stream",
     "text": [
      "Epoch 16: 100%|██████████| 1899/1899 [06:16<00:00,  5.04it/s, loss=0.00235, v_num=72]"
     ]
    },
    {
     "name": "stderr",
     "output_type": "stream",
     "text": [
      "Epoch 16, global step 32283: 'valid/offset(k=0)/loss' was not in top 1\n"
     ]
    },
    {
     "name": "stdout",
     "output_type": "stream",
     "text": [
      "Epoch 17: 100%|██████████| 1899/1899 [06:17<00:00,  5.04it/s, loss=0.00268, v_num=72]"
     ]
    },
    {
     "name": "stderr",
     "output_type": "stream",
     "text": [
      "Epoch 17, global step 34182: 'valid/offset(k=0)/loss' was not in top 1\n"
     ]
    },
    {
     "name": "stdout",
     "output_type": "stream",
     "text": [
      "Epoch 18: 100%|██████████| 1899/1899 [06:16<00:00,  5.04it/s, loss=0.00254, v_num=72]"
     ]
    },
    {
     "name": "stderr",
     "output_type": "stream",
     "text": [
      "Epoch 18, global step 36081: 'valid/offset(k=0)/loss' was not in top 1\n"
     ]
    },
    {
     "name": "stdout",
     "output_type": "stream",
     "text": [
      "Epoch 19: 100%|██████████| 1899/1899 [06:16<00:00,  5.04it/s, loss=0.00244, v_num=72]"
     ]
    },
    {
     "name": "stderr",
     "output_type": "stream",
     "text": [
      "Epoch 19, global step 37980: 'valid/offset(k=0)/loss' was not in top 1\n"
     ]
    },
    {
     "name": "stdout",
     "output_type": "stream",
     "text": [
      "Epoch 20: 100%|██████████| 1899/1899 [06:16<00:00,  5.04it/s, loss=0.00227, v_num=72]"
     ]
    },
    {
     "name": "stderr",
     "output_type": "stream",
     "text": [
      "Epoch 20, global step 39879: 'valid/offset(k=0)/loss' was not in top 1\n"
     ]
    },
    {
     "name": "stdout",
     "output_type": "stream",
     "text": [
      "Epoch 21: 100%|██████████| 1899/1899 [06:16<00:00,  5.04it/s, loss=0.00217, v_num=72]"
     ]
    },
    {
     "name": "stderr",
     "output_type": "stream",
     "text": [
      "Epoch 21, global step 41778: 'valid/offset(k=0)/loss' was not in top 1\n"
     ]
    },
    {
     "name": "stdout",
     "output_type": "stream",
     "text": [
      "Epoch 22: 100%|██████████| 1899/1899 [06:20<00:00,  4.99it/s, loss=0.002, v_num=72]  "
     ]
    },
    {
     "name": "stderr",
     "output_type": "stream",
     "text": [
      "Epoch 22, global step 43677: 'valid/offset(k=0)/loss' was not in top 1\n"
     ]
    },
    {
     "name": "stdout",
     "output_type": "stream",
     "text": [
      "Epoch 23: 100%|██████████| 1899/1899 [06:18<00:00,  5.02it/s, loss=0.00218, v_num=72]"
     ]
    },
    {
     "name": "stderr",
     "output_type": "stream",
     "text": [
      "Epoch 23, global step 45576: 'valid/offset(k=0)/loss' was not in top 1\n"
     ]
    },
    {
     "name": "stdout",
     "output_type": "stream",
     "text": [
      "Epoch 24: 100%|██████████| 1899/1899 [06:20<00:00,  5.00it/s, loss=0.00187, v_num=72]"
     ]
    },
    {
     "name": "stderr",
     "output_type": "stream",
     "text": [
      "Epoch 24, global step 47475: 'valid/offset(k=0)/loss' was not in top 1\n"
     ]
    },
    {
     "name": "stdout",
     "output_type": "stream",
     "text": [
      "Epoch 25: 100%|██████████| 1899/1899 [06:23<00:00,  4.96it/s, loss=0.00266, v_num=72]"
     ]
    },
    {
     "name": "stderr",
     "output_type": "stream",
     "text": [
      "Epoch 25, global step 49374: 'valid/offset(k=0)/loss' was not in top 1\n"
     ]
    },
    {
     "name": "stdout",
     "output_type": "stream",
     "text": [
      "Epoch 26: 100%|██████████| 1899/1899 [06:21<00:00,  4.97it/s, loss=0.00225, v_num=72]"
     ]
    },
    {
     "name": "stderr",
     "output_type": "stream",
     "text": [
      "Epoch 26, global step 51273: 'valid/offset(k=0)/loss' was not in top 1\n"
     ]
    },
    {
     "name": "stdout",
     "output_type": "stream",
     "text": [
      "Epoch 27: 100%|██████████| 1899/1899 [06:28<00:00,  4.88it/s, loss=0.00205, v_num=72]"
     ]
    },
    {
     "name": "stderr",
     "output_type": "stream",
     "text": [
      "Epoch 27, global step 53172: 'valid/offset(k=0)/loss' was not in top 1\n"
     ]
    },
    {
     "name": "stdout",
     "output_type": "stream",
     "text": [
      "Epoch 28: 100%|██████████| 1899/1899 [06:22<00:00,  4.96it/s, loss=0.00222, v_num=72]"
     ]
    },
    {
     "name": "stderr",
     "output_type": "stream",
     "text": [
      "Epoch 28, global step 55071: 'valid/offset(k=0)/loss' was not in top 1\n"
     ]
    },
    {
     "name": "stdout",
     "output_type": "stream",
     "text": [
      "Epoch 29: 100%|██████████| 1899/1899 [06:30<00:00,  4.87it/s, loss=0.00211, v_num=72]"
     ]
    },
    {
     "name": "stderr",
     "output_type": "stream",
     "text": [
      "Epoch 29, global step 56970: 'valid/offset(k=0)/loss' was not in top 1\n"
     ]
    },
    {
     "name": "stdout",
     "output_type": "stream",
     "text": [
      "Epoch 30: 100%|██████████| 1899/1899 [06:29<00:00,  4.87it/s, loss=0.00214, v_num=72]"
     ]
    },
    {
     "name": "stderr",
     "output_type": "stream",
     "text": [
      "Epoch 30, global step 58869: 'valid/offset(k=0)/loss' was not in top 1\n"
     ]
    },
    {
     "name": "stdout",
     "output_type": "stream",
     "text": [
      "Epoch 31: 100%|██████████| 1899/1899 [06:26<00:00,  4.91it/s, loss=0.00207, v_num=72]"
     ]
    },
    {
     "name": "stderr",
     "output_type": "stream",
     "text": [
      "Epoch 31, global step 60768: 'valid/offset(k=0)/loss' was not in top 1\n"
     ]
    },
    {
     "name": "stdout",
     "output_type": "stream",
     "text": [
      "Epoch 32: 100%|██████████| 1899/1899 [06:30<00:00,  4.86it/s, loss=0.00176, v_num=72]"
     ]
    },
    {
     "name": "stderr",
     "output_type": "stream",
     "text": [
      "Epoch 32, global step 62667: 'valid/offset(k=0)/loss' was not in top 1\n"
     ]
    },
    {
     "name": "stdout",
     "output_type": "stream",
     "text": [
      "Epoch 33: 100%|██████████| 1899/1899 [06:28<00:00,  4.89it/s, loss=0.00171, v_num=72]"
     ]
    },
    {
     "name": "stderr",
     "output_type": "stream",
     "text": [
      "Epoch 33, global step 64566: 'valid/offset(k=0)/loss' was not in top 1\n"
     ]
    },
    {
     "name": "stdout",
     "output_type": "stream",
     "text": [
      "Epoch 34: 100%|██████████| 1899/1899 [06:20<00:00,  4.99it/s, loss=0.00159, v_num=72]"
     ]
    },
    {
     "name": "stderr",
     "output_type": "stream",
     "text": [
      "Epoch 34, global step 66465: 'valid/offset(k=0)/loss' was not in top 1\n"
     ]
    },
    {
     "name": "stdout",
     "output_type": "stream",
     "text": [
      "Epoch 35: 100%|██████████| 1899/1899 [06:28<00:00,  4.88it/s, loss=0.00157, v_num=72]"
     ]
    },
    {
     "name": "stderr",
     "output_type": "stream",
     "text": [
      "Epoch 35, global step 68364: 'valid/offset(k=0)/loss' was not in top 1\n"
     ]
    },
    {
     "name": "stdout",
     "output_type": "stream",
     "text": [
      "Epoch 36: 100%|██████████| 1899/1899 [06:26<00:00,  4.92it/s, loss=0.00177, v_num=72]"
     ]
    },
    {
     "name": "stderr",
     "output_type": "stream",
     "text": [
      "Epoch 36, global step 70263: 'valid/offset(k=0)/loss' was not in top 1\n"
     ]
    },
    {
     "name": "stdout",
     "output_type": "stream",
     "text": [
      "Epoch 37: 100%|██████████| 1899/1899 [06:25<00:00,  4.93it/s, loss=0.0017, v_num=72] "
     ]
    },
    {
     "name": "stderr",
     "output_type": "stream",
     "text": [
      "Epoch 37, global step 72162: 'valid/offset(k=0)/loss' was not in top 1\n"
     ]
    },
    {
     "name": "stdout",
     "output_type": "stream",
     "text": [
      "Epoch 38: 100%|██████████| 1899/1899 [06:25<00:00,  4.92it/s, loss=0.00152, v_num=72]"
     ]
    },
    {
     "name": "stderr",
     "output_type": "stream",
     "text": [
      "Epoch 38, global step 74061: 'valid/offset(k=0)/loss' was not in top 1\n"
     ]
    },
    {
     "name": "stdout",
     "output_type": "stream",
     "text": [
      "Epoch 39: 100%|██████████| 1899/1899 [06:24<00:00,  4.94it/s, loss=0.00209, v_num=72]"
     ]
    },
    {
     "name": "stderr",
     "output_type": "stream",
     "text": [
      "Epoch 39, global step 75960: 'valid/offset(k=0)/loss' was not in top 1\n"
     ]
    },
    {
     "name": "stdout",
     "output_type": "stream",
     "text": [
      "Epoch 40: 100%|██████████| 1899/1899 [06:39<00:00,  4.75it/s, loss=0.00144, v_num=72]"
     ]
    },
    {
     "name": "stderr",
     "output_type": "stream",
     "text": [
      "Epoch 40, global step 77859: 'valid/offset(k=0)/loss' was not in top 1\n"
     ]
    },
    {
     "name": "stdout",
     "output_type": "stream",
     "text": [
      "Epoch 41: 100%|██████████| 1899/1899 [07:34<00:00,  4.18it/s, loss=0.00141, v_num=72]"
     ]
    },
    {
     "name": "stderr",
     "output_type": "stream",
     "text": [
      "Epoch 41, global step 79758: 'valid/offset(k=0)/loss' was not in top 1\n"
     ]
    },
    {
     "name": "stdout",
     "output_type": "stream",
     "text": [
      "Epoch 42: 100%|██████████| 1899/1899 [07:07<00:00,  4.44it/s, loss=0.0019, v_num=72] "
     ]
    },
    {
     "name": "stderr",
     "output_type": "stream",
     "text": [
      "Epoch 42, global step 81657: 'valid/offset(k=0)/loss' was not in top 1\n"
     ]
    },
    {
     "name": "stdout",
     "output_type": "stream",
     "text": [
      "Epoch 43: 100%|██████████| 1899/1899 [07:08<00:00,  4.44it/s, loss=0.00194, v_num=72]"
     ]
    },
    {
     "name": "stderr",
     "output_type": "stream",
     "text": [
      "Epoch 43, global step 83556: 'valid/offset(k=0)/loss' was not in top 1\n"
     ]
    },
    {
     "name": "stdout",
     "output_type": "stream",
     "text": [
      "Epoch 44: 100%|██████████| 1899/1899 [07:14<00:00,  4.38it/s, loss=0.00193, v_num=72]"
     ]
    },
    {
     "name": "stderr",
     "output_type": "stream",
     "text": [
      "Epoch 44, global step 85455: 'valid/offset(k=0)/loss' was not in top 1\n"
     ]
    },
    {
     "name": "stdout",
     "output_type": "stream",
     "text": [
      "Epoch 45: 100%|██████████| 1899/1899 [07:06<00:00,  4.45it/s, loss=0.00166, v_num=72]"
     ]
    },
    {
     "name": "stderr",
     "output_type": "stream",
     "text": [
      "Epoch 45, global step 87354: 'valid/offset(k=0)/loss' was not in top 1\n"
     ]
    },
    {
     "name": "stdout",
     "output_type": "stream",
     "text": [
      "Epoch 46: 100%|██████████| 1899/1899 [06:42<00:00,  4.72it/s, loss=0.00154, v_num=72]"
     ]
    },
    {
     "name": "stderr",
     "output_type": "stream",
     "text": [
      "Epoch 46, global step 89253: 'valid/offset(k=0)/loss' was not in top 1\n"
     ]
    },
    {
     "name": "stdout",
     "output_type": "stream",
     "text": [
      "Epoch 47: 100%|██████████| 1899/1899 [07:43<00:00,  4.10it/s, loss=0.00175, v_num=72]"
     ]
    },
    {
     "name": "stderr",
     "output_type": "stream",
     "text": [
      "Epoch 47, global step 91152: 'valid/offset(k=0)/loss' was not in top 1\n"
     ]
    },
    {
     "name": "stdout",
     "output_type": "stream",
     "text": [
      "Epoch 48: 100%|██████████| 1899/1899 [07:11<00:00,  4.40it/s, loss=0.00162, v_num=72]"
     ]
    },
    {
     "name": "stderr",
     "output_type": "stream",
     "text": [
      "Epoch 48, global step 93051: 'valid/offset(k=0)/loss' was not in top 1\n"
     ]
    },
    {
     "name": "stdout",
     "output_type": "stream",
     "text": [
      "Epoch 49: 100%|██████████| 1899/1899 [06:33<00:00,  4.83it/s, loss=0.00176, v_num=72]"
     ]
    },
    {
     "name": "stderr",
     "output_type": "stream",
     "text": [
      "Epoch 49, global step 94950: 'valid/offset(k=0)/loss' was not in top 1\n"
     ]
    },
    {
     "name": "stdout",
     "output_type": "stream",
     "text": [
      "Epoch 50: 100%|██████████| 1899/1899 [06:31<00:00,  4.85it/s, loss=0.00168, v_num=72]"
     ]
    },
    {
     "name": "stderr",
     "output_type": "stream",
     "text": [
      "Epoch 50, global step 96849: 'valid/offset(k=0)/loss' was not in top 1\n"
     ]
    },
    {
     "name": "stdout",
     "output_type": "stream",
     "text": [
      "Epoch 51: 100%|██████████| 1899/1899 [06:31<00:00,  4.85it/s, loss=0.00171, v_num=72]"
     ]
    },
    {
     "name": "stderr",
     "output_type": "stream",
     "text": [
      "Epoch 51, global step 98748: 'valid/offset(k=0)/loss' was not in top 1\n"
     ]
    },
    {
     "name": "stdout",
     "output_type": "stream",
     "text": [
      "Epoch 52: 100%|██████████| 1899/1899 [06:33<00:00,  4.82it/s, loss=0.00156, v_num=72]"
     ]
    },
    {
     "name": "stderr",
     "output_type": "stream",
     "text": [
      "Epoch 52, global step 100647: 'valid/offset(k=0)/loss' was not in top 1\n"
     ]
    },
    {
     "name": "stdout",
     "output_type": "stream",
     "text": [
      "Epoch 53: 100%|██████████| 1899/1899 [06:26<00:00,  4.91it/s, loss=0.00168, v_num=72]"
     ]
    },
    {
     "name": "stderr",
     "output_type": "stream",
     "text": [
      "Epoch 53, global step 102546: 'valid/offset(k=0)/loss' was not in top 1\n"
     ]
    },
    {
     "name": "stdout",
     "output_type": "stream",
     "text": [
      "Epoch 54: 100%|██████████| 1899/1899 [06:28<00:00,  4.88it/s, loss=0.0018, v_num=72] "
     ]
    },
    {
     "name": "stderr",
     "output_type": "stream",
     "text": [
      "Epoch 54, global step 104445: 'valid/offset(k=0)/loss' was not in top 1\n"
     ]
    },
    {
     "name": "stdout",
     "output_type": "stream",
     "text": [
      "Epoch 55: 100%|██████████| 1899/1899 [06:20<00:00,  4.99it/s, loss=0.00175, v_num=72]"
     ]
    },
    {
     "name": "stderr",
     "output_type": "stream",
     "text": [
      "Epoch 55, global step 106344: 'valid/offset(k=0)/loss' was not in top 1\n"
     ]
    },
    {
     "name": "stdout",
     "output_type": "stream",
     "text": [
      "Epoch 56: 100%|██████████| 1899/1899 [06:16<00:00,  5.05it/s, loss=0.0017, v_num=72] "
     ]
    },
    {
     "name": "stderr",
     "output_type": "stream",
     "text": [
      "Epoch 56, global step 108243: 'valid/offset(k=0)/loss' was not in top 1\n"
     ]
    },
    {
     "name": "stdout",
     "output_type": "stream",
     "text": [
      "Epoch 57: 100%|██████████| 1899/1899 [06:17<00:00,  5.03it/s, loss=0.00173, v_num=72]"
     ]
    },
    {
     "name": "stderr",
     "output_type": "stream",
     "text": [
      "Epoch 57, global step 110142: 'valid/offset(k=0)/loss' was not in top 1\n"
     ]
    },
    {
     "name": "stdout",
     "output_type": "stream",
     "text": [
      "Epoch 58: 100%|██████████| 1899/1899 [06:19<00:00,  5.01it/s, loss=0.00172, v_num=72]"
     ]
    },
    {
     "name": "stderr",
     "output_type": "stream",
     "text": [
      "Epoch 58, global step 112041: 'valid/offset(k=0)/loss' was not in top 1\n"
     ]
    },
    {
     "name": "stdout",
     "output_type": "stream",
     "text": [
      "Epoch 59: 100%|██████████| 1899/1899 [06:25<00:00,  4.93it/s, loss=0.0017, v_num=72] "
     ]
    },
    {
     "name": "stderr",
     "output_type": "stream",
     "text": [
      "Epoch 59, global step 113940: 'valid/offset(k=0)/loss' was not in top 1\n"
     ]
    },
    {
     "name": "stdout",
     "output_type": "stream",
     "text": [
      "Epoch 60: 100%|██████████| 1899/1899 [06:25<00:00,  4.92it/s, loss=0.00179, v_num=72]"
     ]
    },
    {
     "name": "stderr",
     "output_type": "stream",
     "text": [
      "Epoch 60, global step 115839: 'valid/offset(k=0)/loss' was not in top 1\n"
     ]
    },
    {
     "name": "stdout",
     "output_type": "stream",
     "text": [
      "Epoch 61: 100%|██████████| 1899/1899 [06:25<00:00,  4.93it/s, loss=0.00166, v_num=72]"
     ]
    },
    {
     "name": "stderr",
     "output_type": "stream",
     "text": [
      "Epoch 61, global step 117738: 'valid/offset(k=0)/loss' was not in top 1\n"
     ]
    },
    {
     "name": "stdout",
     "output_type": "stream",
     "text": [
      "Epoch 62: 100%|██████████| 1899/1899 [06:26<00:00,  4.92it/s, loss=0.00136, v_num=72]"
     ]
    },
    {
     "name": "stderr",
     "output_type": "stream",
     "text": [
      "Epoch 62, global step 119637: 'valid/offset(k=0)/loss' was not in top 1\n"
     ]
    },
    {
     "name": "stdout",
     "output_type": "stream",
     "text": [
      "Epoch 63: 100%|██████████| 1899/1899 [06:22<00:00,  4.96it/s, loss=0.00139, v_num=72]"
     ]
    },
    {
     "name": "stderr",
     "output_type": "stream",
     "text": [
      "Epoch 63, global step 121536: 'valid/offset(k=0)/loss' was not in top 1\n"
     ]
    },
    {
     "name": "stdout",
     "output_type": "stream",
     "text": [
      "Epoch 64: 100%|██████████| 1899/1899 [06:20<00:00,  5.00it/s, loss=0.00159, v_num=72]"
     ]
    },
    {
     "name": "stderr",
     "output_type": "stream",
     "text": [
      "Epoch 64, global step 123435: 'valid/offset(k=0)/loss' was not in top 1\n"
     ]
    },
    {
     "name": "stdout",
     "output_type": "stream",
     "text": [
      "Epoch 65: 100%|██████████| 1899/1899 [06:20<00:00,  4.99it/s, loss=0.00147, v_num=72]"
     ]
    },
    {
     "name": "stderr",
     "output_type": "stream",
     "text": [
      "Epoch 65, global step 125334: 'valid/offset(k=0)/loss' was not in top 1\n"
     ]
    },
    {
     "name": "stdout",
     "output_type": "stream",
     "text": [
      "Epoch 66: 100%|██████████| 1899/1899 [06:23<00:00,  4.95it/s, loss=0.00147, v_num=72]"
     ]
    },
    {
     "name": "stderr",
     "output_type": "stream",
     "text": [
      "Epoch 66, global step 127233: 'valid/offset(k=0)/loss' was not in top 1\n"
     ]
    },
    {
     "name": "stdout",
     "output_type": "stream",
     "text": [
      "Epoch 67: 100%|██████████| 1899/1899 [06:21<00:00,  4.97it/s, loss=0.0016, v_num=72] "
     ]
    },
    {
     "name": "stderr",
     "output_type": "stream",
     "text": [
      "Epoch 67, global step 129132: 'valid/offset(k=0)/loss' was not in top 1\n"
     ]
    },
    {
     "name": "stdout",
     "output_type": "stream",
     "text": [
      "Epoch 68: 100%|██████████| 1899/1899 [06:33<00:00,  4.82it/s, loss=0.00184, v_num=72]"
     ]
    },
    {
     "name": "stderr",
     "output_type": "stream",
     "text": [
      "Epoch 68, global step 131031: 'valid/offset(k=0)/loss' was not in top 1\n"
     ]
    },
    {
     "name": "stdout",
     "output_type": "stream",
     "text": [
      "Epoch 69: 100%|██████████| 1899/1899 [06:29<00:00,  4.88it/s, loss=0.00138, v_num=72] "
     ]
    },
    {
     "name": "stderr",
     "output_type": "stream",
     "text": [
      "Epoch 69, global step 132930: 'valid/offset(k=0)/loss' was not in top 1\n"
     ]
    },
    {
     "name": "stdout",
     "output_type": "stream",
     "text": [
      "Epoch 70: 100%|██████████| 1899/1899 [06:28<00:00,  4.89it/s, loss=0.00177, v_num=72]"
     ]
    },
    {
     "name": "stderr",
     "output_type": "stream",
     "text": [
      "Epoch 70, global step 134829: 'valid/offset(k=0)/loss' was not in top 1\n"
     ]
    },
    {
     "name": "stdout",
     "output_type": "stream",
     "text": [
      "Epoch 71: 100%|██████████| 1899/1899 [06:29<00:00,  4.87it/s, loss=0.00175, v_num=72] "
     ]
    },
    {
     "name": "stderr",
     "output_type": "stream",
     "text": [
      "Epoch 71, global step 136728: 'valid/offset(k=0)/loss' was not in top 1\n"
     ]
    },
    {
     "name": "stdout",
     "output_type": "stream",
     "text": [
      "Epoch 72: 100%|██████████| 1899/1899 [06:50<00:00,  4.62it/s, loss=0.00136, v_num=72]"
     ]
    },
    {
     "name": "stderr",
     "output_type": "stream",
     "text": [
      "Epoch 72, global step 138627: 'valid/offset(k=0)/loss' was not in top 1\n"
     ]
    },
    {
     "name": "stdout",
     "output_type": "stream",
     "text": [
      "Epoch 73: 100%|██████████| 1899/1899 [06:50<00:00,  4.63it/s, loss=0.00142, v_num=72]"
     ]
    },
    {
     "name": "stderr",
     "output_type": "stream",
     "text": [
      "Epoch 73, global step 140526: 'valid/offset(k=0)/loss' was not in top 1\n"
     ]
    },
    {
     "name": "stdout",
     "output_type": "stream",
     "text": [
      "Epoch 74: 100%|██████████| 1899/1899 [06:20<00:00,  4.99it/s, loss=0.00172, v_num=72]"
     ]
    },
    {
     "name": "stderr",
     "output_type": "stream",
     "text": [
      "Epoch 74, global step 142425: 'valid/offset(k=0)/loss' was not in top 1\n"
     ]
    },
    {
     "name": "stdout",
     "output_type": "stream",
     "text": [
      "Epoch 75: 100%|██████████| 1899/1899 [06:20<00:00,  4.99it/s, loss=0.00139, v_num=72]"
     ]
    },
    {
     "name": "stderr",
     "output_type": "stream",
     "text": [
      "Epoch 75, global step 144324: 'valid/offset(k=0)/loss' was not in top 1\n"
     ]
    },
    {
     "name": "stdout",
     "output_type": "stream",
     "text": [
      "Epoch 76: 100%|██████████| 1899/1899 [06:19<00:00,  5.00it/s, loss=0.00126, v_num=72] "
     ]
    },
    {
     "name": "stderr",
     "output_type": "stream",
     "text": [
      "Epoch 76, global step 146223: 'valid/offset(k=0)/loss' was not in top 1\n"
     ]
    },
    {
     "name": "stdout",
     "output_type": "stream",
     "text": [
      "Epoch 77: 100%|██████████| 1899/1899 [06:18<00:00,  5.02it/s, loss=0.00197, v_num=72] "
     ]
    },
    {
     "name": "stderr",
     "output_type": "stream",
     "text": [
      "Epoch 77, global step 148122: 'valid/offset(k=0)/loss' was not in top 1\n"
     ]
    },
    {
     "name": "stdout",
     "output_type": "stream",
     "text": [
      "Epoch 78: 100%|██████████| 1899/1899 [06:18<00:00,  5.02it/s, loss=0.00136, v_num=72] "
     ]
    },
    {
     "name": "stderr",
     "output_type": "stream",
     "text": [
      "Epoch 78, global step 150021: 'valid/offset(k=0)/loss' was not in top 1\n"
     ]
    },
    {
     "name": "stdout",
     "output_type": "stream",
     "text": [
      "Epoch 79: 100%|██████████| 1899/1899 [06:19<00:00,  5.00it/s, loss=0.00158, v_num=72]"
     ]
    },
    {
     "name": "stderr",
     "output_type": "stream",
     "text": [
      "Epoch 79, global step 151920: 'valid/offset(k=0)/loss' was not in top 1\n"
     ]
    },
    {
     "name": "stdout",
     "output_type": "stream",
     "text": [
      "Epoch 80: 100%|██████████| 1899/1899 [06:23<00:00,  4.96it/s, loss=0.00134, v_num=72]"
     ]
    },
    {
     "name": "stderr",
     "output_type": "stream",
     "text": [
      "Epoch 80, global step 153819: 'valid/offset(k=0)/loss' was not in top 1\n"
     ]
    },
    {
     "name": "stdout",
     "output_type": "stream",
     "text": [
      "Epoch 81: 100%|██████████| 1899/1899 [06:19<00:00,  5.01it/s, loss=0.00132, v_num=72]"
     ]
    },
    {
     "name": "stderr",
     "output_type": "stream",
     "text": [
      "Epoch 81, global step 155718: 'valid/offset(k=0)/loss' was not in top 1\n"
     ]
    },
    {
     "name": "stdout",
     "output_type": "stream",
     "text": [
      "Epoch 82: 100%|██████████| 1899/1899 [06:20<00:00,  4.99it/s, loss=0.00194, v_num=72]"
     ]
    },
    {
     "name": "stderr",
     "output_type": "stream",
     "text": [
      "Epoch 82, global step 157617: 'valid/offset(k=0)/loss' was not in top 1\n"
     ]
    },
    {
     "name": "stdout",
     "output_type": "stream",
     "text": [
      "Epoch 83: 100%|██████████| 1899/1899 [06:20<00:00,  4.99it/s, loss=0.00152, v_num=72]"
     ]
    },
    {
     "name": "stderr",
     "output_type": "stream",
     "text": [
      "Epoch 83, global step 159516: 'valid/offset(k=0)/loss' was not in top 1\n"
     ]
    },
    {
     "name": "stdout",
     "output_type": "stream",
     "text": [
      "Epoch 84: 100%|██████████| 1899/1899 [06:20<00:00,  5.00it/s, loss=0.0013, v_num=72] "
     ]
    },
    {
     "name": "stderr",
     "output_type": "stream",
     "text": [
      "Epoch 84, global step 161415: 'valid/offset(k=0)/loss' was not in top 1\n"
     ]
    },
    {
     "name": "stdout",
     "output_type": "stream",
     "text": [
      "Epoch 85: 100%|██████████| 1899/1899 [06:19<00:00,  5.00it/s, loss=0.00133, v_num=72]"
     ]
    },
    {
     "name": "stderr",
     "output_type": "stream",
     "text": [
      "Epoch 85, global step 163314: 'valid/offset(k=0)/loss' was not in top 1\n"
     ]
    },
    {
     "name": "stdout",
     "output_type": "stream",
     "text": [
      "Epoch 86: 100%|██████████| 1899/1899 [06:22<00:00,  4.96it/s, loss=0.00152, v_num=72]"
     ]
    },
    {
     "name": "stderr",
     "output_type": "stream",
     "text": [
      "Epoch 86, global step 165213: 'valid/offset(k=0)/loss' was not in top 1\n"
     ]
    },
    {
     "name": "stdout",
     "output_type": "stream",
     "text": [
      "Epoch 87: 100%|██████████| 1899/1899 [06:21<00:00,  4.97it/s, loss=0.00175, v_num=72]"
     ]
    },
    {
     "name": "stderr",
     "output_type": "stream",
     "text": [
      "Epoch 87, global step 167112: 'valid/offset(k=0)/loss' was not in top 1\n"
     ]
    },
    {
     "name": "stdout",
     "output_type": "stream",
     "text": [
      "Epoch 88: 100%|██████████| 1899/1899 [06:20<00:00,  4.99it/s, loss=0.00142, v_num=72] "
     ]
    },
    {
     "name": "stderr",
     "output_type": "stream",
     "text": [
      "Epoch 88, global step 169011: 'valid/offset(k=0)/loss' was not in top 1\n"
     ]
    },
    {
     "name": "stdout",
     "output_type": "stream",
     "text": [
      "Epoch 89: 100%|██████████| 1899/1899 [06:21<00:00,  4.98it/s, loss=0.00164, v_num=72] "
     ]
    },
    {
     "name": "stderr",
     "output_type": "stream",
     "text": [
      "Epoch 89, global step 170910: 'valid/offset(k=0)/loss' was not in top 1\n"
     ]
    },
    {
     "name": "stdout",
     "output_type": "stream",
     "text": [
      "Epoch 90: 100%|██████████| 1899/1899 [06:20<00:00,  4.99it/s, loss=0.00147, v_num=72]"
     ]
    },
    {
     "name": "stderr",
     "output_type": "stream",
     "text": [
      "Epoch 90, global step 172809: 'valid/offset(k=0)/loss' was not in top 1\n"
     ]
    },
    {
     "name": "stdout",
     "output_type": "stream",
     "text": [
      "Epoch 91: 100%|██████████| 1899/1899 [06:20<00:00,  4.99it/s, loss=0.00121, v_num=72]"
     ]
    },
    {
     "name": "stderr",
     "output_type": "stream",
     "text": [
      "Epoch 91, global step 174708: 'valid/offset(k=0)/loss' was not in top 1\n"
     ]
    },
    {
     "name": "stdout",
     "output_type": "stream",
     "text": [
      "Epoch 92: 100%|██████████| 1899/1899 [06:19<00:00,  5.00it/s, loss=0.00125, v_num=72] "
     ]
    },
    {
     "name": "stderr",
     "output_type": "stream",
     "text": [
      "Epoch 92, global step 176607: 'valid/offset(k=0)/loss' was not in top 1\n"
     ]
    },
    {
     "name": "stdout",
     "output_type": "stream",
     "text": [
      "Epoch 93: 100%|██████████| 1899/1899 [06:21<00:00,  4.98it/s, loss=0.00154, v_num=72]"
     ]
    },
    {
     "name": "stderr",
     "output_type": "stream",
     "text": [
      "Epoch 93, global step 178506: 'valid/offset(k=0)/loss' was not in top 1\n"
     ]
    },
    {
     "name": "stdout",
     "output_type": "stream",
     "text": [
      "Epoch 94: 100%|██████████| 1899/1899 [06:18<00:00,  5.01it/s, loss=0.00152, v_num=72]"
     ]
    },
    {
     "name": "stderr",
     "output_type": "stream",
     "text": [
      "Epoch 94, global step 180405: 'valid/offset(k=0)/loss' was not in top 1\n"
     ]
    },
    {
     "name": "stdout",
     "output_type": "stream",
     "text": [
      "Epoch 95: 100%|██████████| 1899/1899 [06:19<00:00,  5.01it/s, loss=0.00211, v_num=72]"
     ]
    },
    {
     "name": "stderr",
     "output_type": "stream",
     "text": [
      "Epoch 95, global step 182304: 'valid/offset(k=0)/loss' was not in top 1\n"
     ]
    },
    {
     "name": "stdout",
     "output_type": "stream",
     "text": [
      "Epoch 96: 100%|██████████| 1899/1899 [06:19<00:00,  5.00it/s, loss=0.00133, v_num=72] "
     ]
    },
    {
     "name": "stderr",
     "output_type": "stream",
     "text": [
      "Epoch 96, global step 184203: 'valid/offset(k=0)/loss' was not in top 1\n"
     ]
    },
    {
     "name": "stdout",
     "output_type": "stream",
     "text": [
      "Epoch 97: 100%|██████████| 1899/1899 [06:18<00:00,  5.01it/s, loss=0.0013, v_num=72]  "
     ]
    },
    {
     "name": "stderr",
     "output_type": "stream",
     "text": [
      "Epoch 97, global step 186102: 'valid/offset(k=0)/loss' was not in top 1\n"
     ]
    },
    {
     "name": "stdout",
     "output_type": "stream",
     "text": [
      "Epoch 98: 100%|██████████| 1899/1899 [06:19<00:00,  5.01it/s, loss=0.00165, v_num=72]"
     ]
    },
    {
     "name": "stderr",
     "output_type": "stream",
     "text": [
      "Epoch 98, global step 188001: 'valid/offset(k=0)/loss' was not in top 1\n"
     ]
    },
    {
     "name": "stdout",
     "output_type": "stream",
     "text": [
      "Epoch 99: 100%|██████████| 1899/1899 [06:20<00:00,  4.99it/s, loss=0.0015, v_num=72]  "
     ]
    },
    {
     "name": "stderr",
     "output_type": "stream",
     "text": [
      "Epoch 99, global step 189900: 'valid/offset(k=0)/loss' was not in top 1\n"
     ]
    },
    {
     "name": "stdout",
     "output_type": "stream",
     "text": [
      "Epoch 99: 100%|██████████| 1899/1899 [06:20<00:00,  4.99it/s, loss=0.0015, v_num=72]\n"
     ]
    },
    {
     "name": "stderr",
     "output_type": "stream",
     "text": [
      "LOCAL_RANK: 0 - CUDA_VISIBLE_DEVICES: [0]\n"
     ]
    },
    {
     "name": "stdout",
     "output_type": "stream",
     "text": [
      "Testing DataLoader 0: 100%|██████████| 90/90 [00:08<00:00, 11.17it/s]日誌檢查開始\n",
      "test_labels shape: torch.Size([2880, 2])\n",
      "last_x: 500\n",
      "calibration_train_labels shape: (2380, 2)\n",
      "calibration_train shape: (2380, 2)\n",
      "Testing DataLoader 0: 100%|██████████| 90/90 [00:19<00:00,  4.62it/s]\n",
      "────────────────────────────────────────────────────────────────────────────────────────────────────────────────────────\n",
      "                  Test metric                                   DataLoader 0\n",
      "────────────────────────────────────────────────────────────────────────────────────────────────────────────────────────\n",
      "epoch_end_test/offset(k=128)/mean_angular_error               2.186048806190491\n",
      "epoch_end_test/offset(k=128)/std_angular_error              0.012879637657734533\n",
      " epoch_end_test/offset(k=9)/mean_angular_error               2.2630810503959657\n",
      " epoch_end_test/offset(k=9)/std_angular_error                0.10273594577723347\n",
      "  epoch_end_test/offset(k=all)/angular_error                 2.1829004287719727\n",
      "        test/offset(k=0)/angular_error                        6.159257888793945\n",
      "             test/offset(k=0)/loss                           0.00630056019872427\n",
      "────────────────────────────────────────────────────────────────────────────────────────────────────────────────────────\n"
     ]
    }
   ],
   "source": [
    "import argparse\n",
    "import sys\n",
    "\n",
    "path_to_data = './data/mpiifacegaze_preprocessed'\n",
    "validate_on_person = 0\n",
    "test_on_person = 1\n",
    "learning_rate = 0.0001\n",
    "weight_decay = 0\n",
    "batch_size = 32\n",
    "k = [9, 128]\n",
    "adjust_slope = False\n",
    "grid_calibration_samples = True\n",
    "\n",
    "main(path_to_data, validate_on_person, test_on_person, learning_rate, weight_decay, batch_size, k, adjust_slope, grid_calibration_samples)"
   ]
  },
  {
   "cell_type": "code",
   "execution_count": null,
   "id": "fca9845b-9d66-4d3e-9abc-812241e34b7f",
   "metadata": {},
   "outputs": [],
   "source": []
  },
  {
   "cell_type": "code",
   "execution_count": null,
   "id": "743430ab-8683-4733-90e7-15f44798f1e0",
   "metadata": {},
   "outputs": [],
   "source": []
  },
  {
   "cell_type": "code",
   "execution_count": null,
   "id": "627a858d-62f4-4472-a205-d57f89612673",
   "metadata": {},
   "outputs": [],
   "source": []
  }
 ],
 "metadata": {
  "kernelspec": {
   "display_name": "Python 3 (ipykernel)",
   "language": "python",
   "name": "python3"
  },
  "language_info": {
   "codemirror_mode": {
    "name": "ipython",
    "version": 3
   },
   "file_extension": ".py",
   "mimetype": "text/x-python",
   "name": "python",
   "nbconvert_exporter": "python",
   "pygments_lexer": "ipython3",
   "version": "3.8.19"
  }
 },
 "nbformat": 4,
 "nbformat_minor": 5
}
